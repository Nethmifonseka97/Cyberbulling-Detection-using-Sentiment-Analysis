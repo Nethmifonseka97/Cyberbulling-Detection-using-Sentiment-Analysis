{
  "metadata": {
    "kernelspec": {
      "language": "python",
      "display_name": "Python 3",
      "name": "python3"
    },
    "language_info": {
      "name": "python",
      "version": "3.7.12",
      "mimetype": "text/x-python",
      "codemirror_mode": {
        "name": "ipython",
        "version": 3
      },
      "pygments_lexer": "ipython3",
      "nbconvert_exporter": "python",
      "file_extension": ".py"
    },
    "colab": {
      "provenance": []
    },
    "widgets": {
      "application/vnd.jupyter.widget-state+json": {
        "0930d3654611418faa032cf579094e92": {
          "model_module": "@jupyter-widgets/controls",
          "model_name": "HBoxModel",
          "model_module_version": "1.5.0",
          "state": {
            "_dom_classes": [],
            "_model_module": "@jupyter-widgets/controls",
            "_model_module_version": "1.5.0",
            "_model_name": "HBoxModel",
            "_view_count": null,
            "_view_module": "@jupyter-widgets/controls",
            "_view_module_version": "1.5.0",
            "_view_name": "HBoxView",
            "box_style": "",
            "children": [
              "IPY_MODEL_03195221f109489a8751b5b8a5568622",
              "IPY_MODEL_6899b31291904c3b980b2ec7e9042dc6",
              "IPY_MODEL_47ba4d93803b42d8889d6f84e2084c03"
            ],
            "layout": "IPY_MODEL_4b12c55502c94d06ae25d00ff6ae9bdb"
          }
        },
        "03195221f109489a8751b5b8a5568622": {
          "model_module": "@jupyter-widgets/controls",
          "model_name": "HTMLModel",
          "model_module_version": "1.5.0",
          "state": {
            "_dom_classes": [],
            "_model_module": "@jupyter-widgets/controls",
            "_model_module_version": "1.5.0",
            "_model_name": "HTMLModel",
            "_view_count": null,
            "_view_module": "@jupyter-widgets/controls",
            "_view_module_version": "1.5.0",
            "_view_name": "HTMLView",
            "description": "",
            "description_tooltip": null,
            "layout": "IPY_MODEL_352e0b903fe2497ea69d43e39bfb1975",
            "placeholder": "​",
            "style": "IPY_MODEL_b9534fa42be24a72b4c229ba72b1a551",
            "value": "100%"
          }
        },
        "6899b31291904c3b980b2ec7e9042dc6": {
          "model_module": "@jupyter-widgets/controls",
          "model_name": "FloatProgressModel",
          "model_module_version": "1.5.0",
          "state": {
            "_dom_classes": [],
            "_model_module": "@jupyter-widgets/controls",
            "_model_module_version": "1.5.0",
            "_model_name": "FloatProgressModel",
            "_view_count": null,
            "_view_module": "@jupyter-widgets/controls",
            "_view_module_version": "1.5.0",
            "_view_name": "ProgressView",
            "bar_style": "success",
            "description": "",
            "description_tooltip": null,
            "layout": "IPY_MODEL_41cbf4ccc1d849a6a2a9856bdc6f486f",
            "max": 20000,
            "min": 0,
            "orientation": "horizontal",
            "style": "IPY_MODEL_113cf75622fe40ecbfdf72e3cd869d3d",
            "value": 20000
          }
        },
        "47ba4d93803b42d8889d6f84e2084c03": {
          "model_module": "@jupyter-widgets/controls",
          "model_name": "HTMLModel",
          "model_module_version": "1.5.0",
          "state": {
            "_dom_classes": [],
            "_model_module": "@jupyter-widgets/controls",
            "_model_module_version": "1.5.0",
            "_model_name": "HTMLModel",
            "_view_count": null,
            "_view_module": "@jupyter-widgets/controls",
            "_view_module_version": "1.5.0",
            "_view_name": "HTMLView",
            "description": "",
            "description_tooltip": null,
            "layout": "IPY_MODEL_eb705980b247473c8457baa5f8356faf",
            "placeholder": "​",
            "style": "IPY_MODEL_60fdca602d2143769c906b3301fdb592",
            "value": " 20000/20000 [00:51&lt;00:00, 469.61it/s]"
          }
        },
        "4b12c55502c94d06ae25d00ff6ae9bdb": {
          "model_module": "@jupyter-widgets/base",
          "model_name": "LayoutModel",
          "model_module_version": "1.2.0",
          "state": {
            "_model_module": "@jupyter-widgets/base",
            "_model_module_version": "1.2.0",
            "_model_name": "LayoutModel",
            "_view_count": null,
            "_view_module": "@jupyter-widgets/base",
            "_view_module_version": "1.2.0",
            "_view_name": "LayoutView",
            "align_content": null,
            "align_items": null,
            "align_self": null,
            "border": null,
            "bottom": null,
            "display": null,
            "flex": null,
            "flex_flow": null,
            "grid_area": null,
            "grid_auto_columns": null,
            "grid_auto_flow": null,
            "grid_auto_rows": null,
            "grid_column": null,
            "grid_gap": null,
            "grid_row": null,
            "grid_template_areas": null,
            "grid_template_columns": null,
            "grid_template_rows": null,
            "height": null,
            "justify_content": null,
            "justify_items": null,
            "left": null,
            "margin": null,
            "max_height": null,
            "max_width": null,
            "min_height": null,
            "min_width": null,
            "object_fit": null,
            "object_position": null,
            "order": null,
            "overflow": null,
            "overflow_x": null,
            "overflow_y": null,
            "padding": null,
            "right": null,
            "top": null,
            "visibility": null,
            "width": null
          }
        },
        "352e0b903fe2497ea69d43e39bfb1975": {
          "model_module": "@jupyter-widgets/base",
          "model_name": "LayoutModel",
          "model_module_version": "1.2.0",
          "state": {
            "_model_module": "@jupyter-widgets/base",
            "_model_module_version": "1.2.0",
            "_model_name": "LayoutModel",
            "_view_count": null,
            "_view_module": "@jupyter-widgets/base",
            "_view_module_version": "1.2.0",
            "_view_name": "LayoutView",
            "align_content": null,
            "align_items": null,
            "align_self": null,
            "border": null,
            "bottom": null,
            "display": null,
            "flex": null,
            "flex_flow": null,
            "grid_area": null,
            "grid_auto_columns": null,
            "grid_auto_flow": null,
            "grid_auto_rows": null,
            "grid_column": null,
            "grid_gap": null,
            "grid_row": null,
            "grid_template_areas": null,
            "grid_template_columns": null,
            "grid_template_rows": null,
            "height": null,
            "justify_content": null,
            "justify_items": null,
            "left": null,
            "margin": null,
            "max_height": null,
            "max_width": null,
            "min_height": null,
            "min_width": null,
            "object_fit": null,
            "object_position": null,
            "order": null,
            "overflow": null,
            "overflow_x": null,
            "overflow_y": null,
            "padding": null,
            "right": null,
            "top": null,
            "visibility": null,
            "width": null
          }
        },
        "b9534fa42be24a72b4c229ba72b1a551": {
          "model_module": "@jupyter-widgets/controls",
          "model_name": "DescriptionStyleModel",
          "model_module_version": "1.5.0",
          "state": {
            "_model_module": "@jupyter-widgets/controls",
            "_model_module_version": "1.5.0",
            "_model_name": "DescriptionStyleModel",
            "_view_count": null,
            "_view_module": "@jupyter-widgets/base",
            "_view_module_version": "1.2.0",
            "_view_name": "StyleView",
            "description_width": ""
          }
        },
        "41cbf4ccc1d849a6a2a9856bdc6f486f": {
          "model_module": "@jupyter-widgets/base",
          "model_name": "LayoutModel",
          "model_module_version": "1.2.0",
          "state": {
            "_model_module": "@jupyter-widgets/base",
            "_model_module_version": "1.2.0",
            "_model_name": "LayoutModel",
            "_view_count": null,
            "_view_module": "@jupyter-widgets/base",
            "_view_module_version": "1.2.0",
            "_view_name": "LayoutView",
            "align_content": null,
            "align_items": null,
            "align_self": null,
            "border": null,
            "bottom": null,
            "display": null,
            "flex": null,
            "flex_flow": null,
            "grid_area": null,
            "grid_auto_columns": null,
            "grid_auto_flow": null,
            "grid_auto_rows": null,
            "grid_column": null,
            "grid_gap": null,
            "grid_row": null,
            "grid_template_areas": null,
            "grid_template_columns": null,
            "grid_template_rows": null,
            "height": null,
            "justify_content": null,
            "justify_items": null,
            "left": null,
            "margin": null,
            "max_height": null,
            "max_width": null,
            "min_height": null,
            "min_width": null,
            "object_fit": null,
            "object_position": null,
            "order": null,
            "overflow": null,
            "overflow_x": null,
            "overflow_y": null,
            "padding": null,
            "right": null,
            "top": null,
            "visibility": null,
            "width": null
          }
        },
        "113cf75622fe40ecbfdf72e3cd869d3d": {
          "model_module": "@jupyter-widgets/controls",
          "model_name": "ProgressStyleModel",
          "model_module_version": "1.5.0",
          "state": {
            "_model_module": "@jupyter-widgets/controls",
            "_model_module_version": "1.5.0",
            "_model_name": "ProgressStyleModel",
            "_view_count": null,
            "_view_module": "@jupyter-widgets/base",
            "_view_module_version": "1.2.0",
            "_view_name": "StyleView",
            "bar_color": null,
            "description_width": ""
          }
        },
        "eb705980b247473c8457baa5f8356faf": {
          "model_module": "@jupyter-widgets/base",
          "model_name": "LayoutModel",
          "model_module_version": "1.2.0",
          "state": {
            "_model_module": "@jupyter-widgets/base",
            "_model_module_version": "1.2.0",
            "_model_name": "LayoutModel",
            "_view_count": null,
            "_view_module": "@jupyter-widgets/base",
            "_view_module_version": "1.2.0",
            "_view_name": "LayoutView",
            "align_content": null,
            "align_items": null,
            "align_self": null,
            "border": null,
            "bottom": null,
            "display": null,
            "flex": null,
            "flex_flow": null,
            "grid_area": null,
            "grid_auto_columns": null,
            "grid_auto_flow": null,
            "grid_auto_rows": null,
            "grid_column": null,
            "grid_gap": null,
            "grid_row": null,
            "grid_template_areas": null,
            "grid_template_columns": null,
            "grid_template_rows": null,
            "height": null,
            "justify_content": null,
            "justify_items": null,
            "left": null,
            "margin": null,
            "max_height": null,
            "max_width": null,
            "min_height": null,
            "min_width": null,
            "object_fit": null,
            "object_position": null,
            "order": null,
            "overflow": null,
            "overflow_x": null,
            "overflow_y": null,
            "padding": null,
            "right": null,
            "top": null,
            "visibility": null,
            "width": null
          }
        },
        "60fdca602d2143769c906b3301fdb592": {
          "model_module": "@jupyter-widgets/controls",
          "model_name": "DescriptionStyleModel",
          "model_module_version": "1.5.0",
          "state": {
            "_model_module": "@jupyter-widgets/controls",
            "_model_module_version": "1.5.0",
            "_model_name": "DescriptionStyleModel",
            "_view_count": null,
            "_view_module": "@jupyter-widgets/base",
            "_view_module_version": "1.2.0",
            "_view_name": "StyleView",
            "description_width": ""
          }
        }
      }
    }
  },
  "nbformat_minor": 0,
  "nbformat": 4,
  "cells": [
    {
      "cell_type": "markdown",
      "source": [
        "# Cyberbullying Detection using Natural Language Processing\n",
        "---"
      ],
      "metadata": {
        "id": "ErbrghuoGtf-"
      }
    },
    {
      "cell_type": "code",
      "source": [
        "import pandas as pd\n",
        "import re\n",
        "import nltk\n",
        "from nltk.corpus import stopwords\n",
        "from nltk.stem import PorterStemmer\n",
        "from sklearn.feature_extraction.text import CountVectorizer\n",
        "\n",
        "import seaborn as sns\n",
        "import matplotlib.pyplot as plt\n",
        "\n",
        "from tqdm.auto import tqdm\n",
        "import time"
      ],
      "metadata": {
        "execution": {
          "iopub.status.busy": "2023-03-04T08:30:56.336049Z",
          "iopub.execute_input": "2023-03-04T08:30:56.337118Z",
          "iopub.status.idle": "2023-03-04T08:30:56.343741Z",
          "shell.execute_reply.started": "2023-03-04T08:30:56.337074Z",
          "shell.execute_reply": "2023-03-04T08:30:56.342607Z"
        },
        "trusted": true,
        "id": "Jxx4H4sdGtgB"
      },
      "execution_count": 5,
      "outputs": []
    },
    {
      "cell_type": "markdown",
      "source": [
        "# Data Collection\n",
        "\n",
        "Dataset file from: J. Wang, K. Fu, C.T. Lu, “SOSNet: A Graph Convolutional Network Approach to Fine-Grained Cyberbullying Detection,” Proceedings of the 2020 IEEE International Conference on Big Data (IEEE BigData 2020), December 10-13, 2020.\n",
        "\n",
        "Link - https://www.kaggle.com/datasets/andrewmvd/cyberbullying-classification/data\n",
        "\n",
        "\n",
        "With the escalating prevalence of social media use across all age groups, a significant portion of the population now heavily relies on this fundamental medium for day-to-day communication. The omnipresence of social media exposes individuals to the potential impact of cyberbullying at any given moment and in any location, exacerbated by the relative anonymity afforded by the internet, rendering personal attacks more challenging to thwart compared to traditional forms of bullying.\n",
        "\n",
        "In response to the heightened risk of cyberbullying during the COVID-19 pandemic, UNICEF issued a warning on April 15th, 2020. This increased risk was attributed to widespread school closures, elevated screen time, and diminished face-to-face social interactions. The statistics surrounding cyberbullying are indeed concerning: 36.5% of middle and high school students have reported experiencing cyberbullying, while a staggering 87% have witnessed instances of cyberbullying. The repercussions extend from diminished academic performance to depression and even contemplation of suicidal thoughts.\n",
        "\n",
        "Given these circumstances, the dataset in question encompasses over 47,000 tweets, each categorized based on the class of cyberbullying:\n",
        "\n",
        "1. Age\n",
        "2. Ethnicity\n",
        "3. Gender\n",
        "4. Religion\n",
        "5. Other forms of cyberbullying\n",
        "6. Not classified as cyberbullying"
      ],
      "metadata": {
        "id": "_KUj0mjzGtgB"
      }
    },
    {
      "cell_type": "code",
      "source": [
        "# Deleted some data from the original dataset becuase the GPU is not enough to handle 47000 data\n",
        "\n",
        "df = pd.read_csv('/content/cyberbullying.csv', nrows = 20000)\n",
        "df"
      ],
      "metadata": {
        "execution": {
          "iopub.status.busy": "2023-03-04T08:30:56.349639Z",
          "iopub.execute_input": "2023-03-04T08:30:56.350479Z",
          "iopub.status.idle": "2023-03-04T08:30:56.442155Z",
          "shell.execute_reply.started": "2023-03-04T08:30:56.350428Z",
          "shell.execute_reply": "2023-03-04T08:30:56.440917Z"
        },
        "trusted": true,
        "colab": {
          "base_uri": "https://localhost:8080/",
          "height": 424
        },
        "id": "lkkpBjW3GtgB",
        "outputId": "9e87cacd-ff8c-4dbb-a96a-5c165444fff9"
      },
      "execution_count": 6,
      "outputs": [
        {
          "output_type": "execute_result",
          "data": {
            "text/plain": [
              "                                              tweet_text cyberbullying_type\n",
              "0      I would back hand them both. Giving them a 1? ...  not_cyberbullying\n",
              "1               Niggas wanna fight after school and shit  not_cyberbullying\n",
              "2                         #mkr say sassy one more time 😒  not_cyberbullying\n",
              "3      Can't believe I'm still awake when I  have to ...  not_cyberbullying\n",
              "4      @OdiniaInvictus @SirajZarook @BilalIGhumman @I...  not_cyberbullying\n",
              "...                                                  ...                ...\n",
              "19995  you ignorant BITCH, Suck & Black Dick Your Whi...          ethnicity\n",
              "19996  and your body goes oh shit nigger what the fuc...          ethnicity\n",
              "19997                  @FsN_Vigsta fuck that dumb nigger          ethnicity\n",
              "19998  ...did a white woman really just send me a vid...          ethnicity\n",
              "19999  I fully agree But lately, it’s become justifie...          ethnicity\n",
              "\n",
              "[20000 rows x 2 columns]"
            ],
            "text/html": [
              "\n",
              "  <div id=\"df-8eb4f78d-17c3-43c1-be59-d6327f8a63d6\" class=\"colab-df-container\">\n",
              "    <div>\n",
              "<style scoped>\n",
              "    .dataframe tbody tr th:only-of-type {\n",
              "        vertical-align: middle;\n",
              "    }\n",
              "\n",
              "    .dataframe tbody tr th {\n",
              "        vertical-align: top;\n",
              "    }\n",
              "\n",
              "    .dataframe thead th {\n",
              "        text-align: right;\n",
              "    }\n",
              "</style>\n",
              "<table border=\"1\" class=\"dataframe\">\n",
              "  <thead>\n",
              "    <tr style=\"text-align: right;\">\n",
              "      <th></th>\n",
              "      <th>tweet_text</th>\n",
              "      <th>cyberbullying_type</th>\n",
              "    </tr>\n",
              "  </thead>\n",
              "  <tbody>\n",
              "    <tr>\n",
              "      <th>0</th>\n",
              "      <td>I would back hand them both. Giving them a 1? ...</td>\n",
              "      <td>not_cyberbullying</td>\n",
              "    </tr>\n",
              "    <tr>\n",
              "      <th>1</th>\n",
              "      <td>Niggas wanna fight after school and shit</td>\n",
              "      <td>not_cyberbullying</td>\n",
              "    </tr>\n",
              "    <tr>\n",
              "      <th>2</th>\n",
              "      <td>#mkr say sassy one more time 😒</td>\n",
              "      <td>not_cyberbullying</td>\n",
              "    </tr>\n",
              "    <tr>\n",
              "      <th>3</th>\n",
              "      <td>Can't believe I'm still awake when I  have to ...</td>\n",
              "      <td>not_cyberbullying</td>\n",
              "    </tr>\n",
              "    <tr>\n",
              "      <th>4</th>\n",
              "      <td>@OdiniaInvictus @SirajZarook @BilalIGhumman @I...</td>\n",
              "      <td>not_cyberbullying</td>\n",
              "    </tr>\n",
              "    <tr>\n",
              "      <th>...</th>\n",
              "      <td>...</td>\n",
              "      <td>...</td>\n",
              "    </tr>\n",
              "    <tr>\n",
              "      <th>19995</th>\n",
              "      <td>you ignorant BITCH, Suck &amp; Black Dick Your Whi...</td>\n",
              "      <td>ethnicity</td>\n",
              "    </tr>\n",
              "    <tr>\n",
              "      <th>19996</th>\n",
              "      <td>and your body goes oh shit nigger what the fuc...</td>\n",
              "      <td>ethnicity</td>\n",
              "    </tr>\n",
              "    <tr>\n",
              "      <th>19997</th>\n",
              "      <td>@FsN_Vigsta fuck that dumb nigger</td>\n",
              "      <td>ethnicity</td>\n",
              "    </tr>\n",
              "    <tr>\n",
              "      <th>19998</th>\n",
              "      <td>...did a white woman really just send me a vid...</td>\n",
              "      <td>ethnicity</td>\n",
              "    </tr>\n",
              "    <tr>\n",
              "      <th>19999</th>\n",
              "      <td>I fully agree But lately, it’s become justifie...</td>\n",
              "      <td>ethnicity</td>\n",
              "    </tr>\n",
              "  </tbody>\n",
              "</table>\n",
              "<p>20000 rows × 2 columns</p>\n",
              "</div>\n",
              "    <div class=\"colab-df-buttons\">\n",
              "\n",
              "  <div class=\"colab-df-container\">\n",
              "    <button class=\"colab-df-convert\" onclick=\"convertToInteractive('df-8eb4f78d-17c3-43c1-be59-d6327f8a63d6')\"\n",
              "            title=\"Convert this dataframe to an interactive table.\"\n",
              "            style=\"display:none;\">\n",
              "\n",
              "  <svg xmlns=\"http://www.w3.org/2000/svg\" height=\"24px\" viewBox=\"0 -960 960 960\">\n",
              "    <path d=\"M120-120v-720h720v720H120Zm60-500h600v-160H180v160Zm220 220h160v-160H400v160Zm0 220h160v-160H400v160ZM180-400h160v-160H180v160Zm440 0h160v-160H620v160ZM180-180h160v-160H180v160Zm440 0h160v-160H620v160Z\"/>\n",
              "  </svg>\n",
              "    </button>\n",
              "\n",
              "  <style>\n",
              "    .colab-df-container {\n",
              "      display:flex;\n",
              "      gap: 12px;\n",
              "    }\n",
              "\n",
              "    .colab-df-convert {\n",
              "      background-color: #E8F0FE;\n",
              "      border: none;\n",
              "      border-radius: 50%;\n",
              "      cursor: pointer;\n",
              "      display: none;\n",
              "      fill: #1967D2;\n",
              "      height: 32px;\n",
              "      padding: 0 0 0 0;\n",
              "      width: 32px;\n",
              "    }\n",
              "\n",
              "    .colab-df-convert:hover {\n",
              "      background-color: #E2EBFA;\n",
              "      box-shadow: 0px 1px 2px rgba(60, 64, 67, 0.3), 0px 1px 3px 1px rgba(60, 64, 67, 0.15);\n",
              "      fill: #174EA6;\n",
              "    }\n",
              "\n",
              "    .colab-df-buttons div {\n",
              "      margin-bottom: 4px;\n",
              "    }\n",
              "\n",
              "    [theme=dark] .colab-df-convert {\n",
              "      background-color: #3B4455;\n",
              "      fill: #D2E3FC;\n",
              "    }\n",
              "\n",
              "    [theme=dark] .colab-df-convert:hover {\n",
              "      background-color: #434B5C;\n",
              "      box-shadow: 0px 1px 3px 1px rgba(0, 0, 0, 0.15);\n",
              "      filter: drop-shadow(0px 1px 2px rgba(0, 0, 0, 0.3));\n",
              "      fill: #FFFFFF;\n",
              "    }\n",
              "  </style>\n",
              "\n",
              "    <script>\n",
              "      const buttonEl =\n",
              "        document.querySelector('#df-8eb4f78d-17c3-43c1-be59-d6327f8a63d6 button.colab-df-convert');\n",
              "      buttonEl.style.display =\n",
              "        google.colab.kernel.accessAllowed ? 'block' : 'none';\n",
              "\n",
              "      async function convertToInteractive(key) {\n",
              "        const element = document.querySelector('#df-8eb4f78d-17c3-43c1-be59-d6327f8a63d6');\n",
              "        const dataTable =\n",
              "          await google.colab.kernel.invokeFunction('convertToInteractive',\n",
              "                                                    [key], {});\n",
              "        if (!dataTable) return;\n",
              "\n",
              "        const docLinkHtml = 'Like what you see? Visit the ' +\n",
              "          '<a target=\"_blank\" href=https://colab.research.google.com/notebooks/data_table.ipynb>data table notebook</a>'\n",
              "          + ' to learn more about interactive tables.';\n",
              "        element.innerHTML = '';\n",
              "        dataTable['output_type'] = 'display_data';\n",
              "        await google.colab.output.renderOutput(dataTable, element);\n",
              "        const docLink = document.createElement('div');\n",
              "        docLink.innerHTML = docLinkHtml;\n",
              "        element.appendChild(docLink);\n",
              "      }\n",
              "    </script>\n",
              "  </div>\n",
              "\n",
              "\n",
              "<div id=\"df-b7a08f14-0d3e-44ed-861b-3ba3fc2313e9\">\n",
              "  <button class=\"colab-df-quickchart\" onclick=\"quickchart('df-b7a08f14-0d3e-44ed-861b-3ba3fc2313e9')\"\n",
              "            title=\"Suggest charts\"\n",
              "            style=\"display:none;\">\n",
              "\n",
              "<svg xmlns=\"http://www.w3.org/2000/svg\" height=\"24px\"viewBox=\"0 0 24 24\"\n",
              "     width=\"24px\">\n",
              "    <g>\n",
              "        <path d=\"M19 3H5c-1.1 0-2 .9-2 2v14c0 1.1.9 2 2 2h14c1.1 0 2-.9 2-2V5c0-1.1-.9-2-2-2zM9 17H7v-7h2v7zm4 0h-2V7h2v10zm4 0h-2v-4h2v4z\"/>\n",
              "    </g>\n",
              "</svg>\n",
              "  </button>\n",
              "\n",
              "<style>\n",
              "  .colab-df-quickchart {\n",
              "      --bg-color: #E8F0FE;\n",
              "      --fill-color: #1967D2;\n",
              "      --hover-bg-color: #E2EBFA;\n",
              "      --hover-fill-color: #174EA6;\n",
              "      --disabled-fill-color: #AAA;\n",
              "      --disabled-bg-color: #DDD;\n",
              "  }\n",
              "\n",
              "  [theme=dark] .colab-df-quickchart {\n",
              "      --bg-color: #3B4455;\n",
              "      --fill-color: #D2E3FC;\n",
              "      --hover-bg-color: #434B5C;\n",
              "      --hover-fill-color: #FFFFFF;\n",
              "      --disabled-bg-color: #3B4455;\n",
              "      --disabled-fill-color: #666;\n",
              "  }\n",
              "\n",
              "  .colab-df-quickchart {\n",
              "    background-color: var(--bg-color);\n",
              "    border: none;\n",
              "    border-radius: 50%;\n",
              "    cursor: pointer;\n",
              "    display: none;\n",
              "    fill: var(--fill-color);\n",
              "    height: 32px;\n",
              "    padding: 0;\n",
              "    width: 32px;\n",
              "  }\n",
              "\n",
              "  .colab-df-quickchart:hover {\n",
              "    background-color: var(--hover-bg-color);\n",
              "    box-shadow: 0 1px 2px rgba(60, 64, 67, 0.3), 0 1px 3px 1px rgba(60, 64, 67, 0.15);\n",
              "    fill: var(--button-hover-fill-color);\n",
              "  }\n",
              "\n",
              "  .colab-df-quickchart-complete:disabled,\n",
              "  .colab-df-quickchart-complete:disabled:hover {\n",
              "    background-color: var(--disabled-bg-color);\n",
              "    fill: var(--disabled-fill-color);\n",
              "    box-shadow: none;\n",
              "  }\n",
              "\n",
              "  .colab-df-spinner {\n",
              "    border: 2px solid var(--fill-color);\n",
              "    border-color: transparent;\n",
              "    border-bottom-color: var(--fill-color);\n",
              "    animation:\n",
              "      spin 1s steps(1) infinite;\n",
              "  }\n",
              "\n",
              "  @keyframes spin {\n",
              "    0% {\n",
              "      border-color: transparent;\n",
              "      border-bottom-color: var(--fill-color);\n",
              "      border-left-color: var(--fill-color);\n",
              "    }\n",
              "    20% {\n",
              "      border-color: transparent;\n",
              "      border-left-color: var(--fill-color);\n",
              "      border-top-color: var(--fill-color);\n",
              "    }\n",
              "    30% {\n",
              "      border-color: transparent;\n",
              "      border-left-color: var(--fill-color);\n",
              "      border-top-color: var(--fill-color);\n",
              "      border-right-color: var(--fill-color);\n",
              "    }\n",
              "    40% {\n",
              "      border-color: transparent;\n",
              "      border-right-color: var(--fill-color);\n",
              "      border-top-color: var(--fill-color);\n",
              "    }\n",
              "    60% {\n",
              "      border-color: transparent;\n",
              "      border-right-color: var(--fill-color);\n",
              "    }\n",
              "    80% {\n",
              "      border-color: transparent;\n",
              "      border-right-color: var(--fill-color);\n",
              "      border-bottom-color: var(--fill-color);\n",
              "    }\n",
              "    90% {\n",
              "      border-color: transparent;\n",
              "      border-bottom-color: var(--fill-color);\n",
              "    }\n",
              "  }\n",
              "</style>\n",
              "\n",
              "  <script>\n",
              "    async function quickchart(key) {\n",
              "      const quickchartButtonEl =\n",
              "        document.querySelector('#' + key + ' button');\n",
              "      quickchartButtonEl.disabled = true;  // To prevent multiple clicks.\n",
              "      quickchartButtonEl.classList.add('colab-df-spinner');\n",
              "      try {\n",
              "        const charts = await google.colab.kernel.invokeFunction(\n",
              "            'suggestCharts', [key], {});\n",
              "      } catch (error) {\n",
              "        console.error('Error during call to suggestCharts:', error);\n",
              "      }\n",
              "      quickchartButtonEl.classList.remove('colab-df-spinner');\n",
              "      quickchartButtonEl.classList.add('colab-df-quickchart-complete');\n",
              "    }\n",
              "    (() => {\n",
              "      let quickchartButtonEl =\n",
              "        document.querySelector('#df-b7a08f14-0d3e-44ed-861b-3ba3fc2313e9 button');\n",
              "      quickchartButtonEl.style.display =\n",
              "        google.colab.kernel.accessAllowed ? 'block' : 'none';\n",
              "    })();\n",
              "  </script>\n",
              "</div>\n",
              "    </div>\n",
              "  </div>\n"
            ]
          },
          "metadata": {},
          "execution_count": 6
        }
      ]
    },
    {
      "cell_type": "code",
      "source": [
        "df.shape"
      ],
      "metadata": {
        "execution": {
          "iopub.status.busy": "2023-03-04T08:30:56.476461Z",
          "iopub.execute_input": "2023-03-04T08:30:56.477216Z",
          "iopub.status.idle": "2023-03-04T08:30:56.486208Z",
          "shell.execute_reply.started": "2023-03-04T08:30:56.477167Z",
          "shell.execute_reply": "2023-03-04T08:30:56.485052Z"
        },
        "trusted": true,
        "colab": {
          "base_uri": "https://localhost:8080/"
        },
        "id": "UfLHRmpHGtgC",
        "outputId": "a334e170-ddf9-4f2f-adfe-a8e80b2631ce"
      },
      "execution_count": 7,
      "outputs": [
        {
          "output_type": "execute_result",
          "data": {
            "text/plain": [
              "(20000, 2)"
            ]
          },
          "metadata": {},
          "execution_count": 7
        }
      ]
    },
    {
      "cell_type": "markdown",
      "source": [
        "# Data processing\n"
      ],
      "metadata": {
        "id": "_Wof_6uLGtgD"
      }
    },
    {
      "cell_type": "code",
      "source": [
        "# Checking Null Values\n",
        "\n",
        "df.isna().sum()"
      ],
      "metadata": {
        "execution": {
          "iopub.status.busy": "2023-03-04T08:30:57.025164Z",
          "iopub.execute_input": "2023-03-04T08:30:57.026040Z",
          "iopub.status.idle": "2023-03-04T08:30:57.038563Z",
          "shell.execute_reply.started": "2023-03-04T08:30:57.025993Z",
          "shell.execute_reply": "2023-03-04T08:30:57.037179Z"
        },
        "trusted": true,
        "colab": {
          "base_uri": "https://localhost:8080/"
        },
        "id": "VFFme-oaGtgD",
        "outputId": "634a056f-306f-4dc0-88fb-664f3f7817b1"
      },
      "execution_count": 8,
      "outputs": [
        {
          "output_type": "execute_result",
          "data": {
            "text/plain": [
              "tweet_text            0\n",
              "cyberbullying_type    0\n",
              "dtype: int64"
            ]
          },
          "metadata": {},
          "execution_count": 8
        }
      ]
    },
    {
      "cell_type": "code",
      "source": [
        "# Duplicate Values\n",
        "\n",
        "df.nunique()"
      ],
      "metadata": {
        "execution": {
          "iopub.status.busy": "2023-03-04T08:30:57.040943Z",
          "iopub.execute_input": "2023-03-04T08:30:57.041404Z",
          "iopub.status.idle": "2023-03-04T08:30:57.064930Z",
          "shell.execute_reply.started": "2023-03-04T08:30:57.041359Z",
          "shell.execute_reply": "2023-03-04T08:30:57.064055Z"
        },
        "trusted": true,
        "colab": {
          "base_uri": "https://localhost:8080/"
        },
        "id": "gXUGXM82GtgD",
        "outputId": "ef02620c-a1b2-4b08-ece3-0843a5ead829"
      },
      "execution_count": 9,
      "outputs": [
        {
          "output_type": "execute_result",
          "data": {
            "text/plain": [
              "tweet_text            19732\n",
              "cyberbullying_type        6\n",
              "dtype: int64"
            ]
          },
          "metadata": {},
          "execution_count": 9
        }
      ]
    },
    {
      "cell_type": "code",
      "source": [
        "df['tweet_text'].nunique()"
      ],
      "metadata": {
        "execution": {
          "iopub.status.busy": "2023-03-04T08:30:57.067146Z",
          "iopub.execute_input": "2023-03-04T08:30:57.068035Z",
          "iopub.status.idle": "2023-03-04T08:30:57.086314Z",
          "shell.execute_reply.started": "2023-03-04T08:30:57.067987Z",
          "shell.execute_reply": "2023-03-04T08:30:57.085197Z"
        },
        "trusted": true,
        "colab": {
          "base_uri": "https://localhost:8080/"
        },
        "id": "6buhtcWrGtgE",
        "outputId": "bafcfbeb-58d4-4db5-94c3-4b2d240fd57d"
      },
      "execution_count": 10,
      "outputs": [
        {
          "output_type": "execute_result",
          "data": {
            "text/plain": [
              "19732"
            ]
          },
          "metadata": {},
          "execution_count": 10
        }
      ]
    },
    {
      "cell_type": "markdown",
      "source": [
        "# EDA"
      ],
      "metadata": {
        "id": "YNo-TV7TGtgE"
      }
    },
    {
      "cell_type": "code",
      "source": [
        "df['cyberbullying_type'].value_counts()"
      ],
      "metadata": {
        "execution": {
          "iopub.status.busy": "2023-03-04T08:30:57.089317Z",
          "iopub.execute_input": "2023-03-04T08:30:57.089957Z",
          "iopub.status.idle": "2023-03-04T08:30:57.098933Z",
          "shell.execute_reply.started": "2023-03-04T08:30:57.089921Z",
          "shell.execute_reply": "2023-03-04T08:30:57.097823Z"
        },
        "trusted": true,
        "colab": {
          "base_uri": "https://localhost:8080/"
        },
        "id": "ZWCZpLIuGtgE",
        "outputId": "9b7096b0-c600-4c7e-8c28-38d17e130f02"
      },
      "execution_count": 11,
      "outputs": [
        {
          "output_type": "execute_result",
          "data": {
            "text/plain": [
              "religion               3446\n",
              "gender                 3439\n",
              "age                    3371\n",
              "other_cyberbullying    3324\n",
              "ethnicity              3212\n",
              "not_cyberbullying      3208\n",
              "Name: cyberbullying_type, dtype: int64"
            ]
          },
          "metadata": {},
          "execution_count": 11
        }
      ]
    },
    {
      "cell_type": "code",
      "source": [
        "from matplotlib import pyplot as plt\n",
        "import seaborn as sns\n",
        "df.groupby('cyberbullying_type').size().plot(kind='barh', color=sns.palettes.mpl_palette('Dark2'))\n",
        "plt.gca().spines[['top', 'right',]].set_visible(False)"
      ],
      "metadata": {
        "execution": {
          "iopub.status.busy": "2023-03-04T08:30:57.100223Z",
          "iopub.execute_input": "2023-03-04T08:30:57.100545Z",
          "iopub.status.idle": "2023-03-04T08:30:57.324131Z",
          "shell.execute_reply.started": "2023-03-04T08:30:57.100518Z",
          "shell.execute_reply": "2023-03-04T08:30:57.323182Z"
        },
        "trusted": true,
        "colab": {
          "base_uri": "https://localhost:8080/",
          "height": 430
        },
        "id": "lUZkaDE6GtgE",
        "outputId": "ae1ef1ec-2f1c-4277-d47a-708755cbc5f7"
      },
      "execution_count": 12,
      "outputs": [
        {
          "output_type": "display_data",
          "data": {
            "text/plain": [
              "<Figure size 640x480 with 1 Axes>"
            ],
            "image/png": "[encoded data removed]"
          },
          "metadata": {}
        }
      ]
    },
    {
      "cell_type": "markdown",
      "source": [
        "# Relevant statistics"
      ],
      "metadata": {
        "id": "GDJQCgMOGtgE"
      }
    },
    {
      "cell_type": "code",
      "source": [
        "from collections import Counter\n",
        "import re\n",
        "import nltk\n",
        "nltk.download('stopwords')\n",
        "from nltk.corpus import stopwords"
      ],
      "metadata": {
        "execution": {
          "iopub.status.busy": "2023-03-04T08:30:57.325366Z",
          "iopub.execute_input": "2023-03-04T08:30:57.325726Z",
          "iopub.status.idle": "2023-03-04T08:30:57.330770Z",
          "shell.execute_reply.started": "2023-03-04T08:30:57.325692Z",
          "shell.execute_reply": "2023-03-04T08:30:57.329390Z"
        },
        "trusted": true,
        "colab": {
          "base_uri": "https://localhost:8080/"
        },
        "id": "tnTXY_lbGtgE",
        "outputId": "6b9087c6-c8e3-4962-813e-9c83b8cf4ec2"
      },
      "execution_count": 13,
      "outputs": [
        {
          "output_type": "stream",
          "name": "stderr",
          "text": [
            "[nltk_data] Downloading package stopwords to /root/nltk_data...\n",
            "[nltk_data]   Unzipping corpora/stopwords.zip.\n"
          ]
        }
      ]
    },
    {
      "cell_type": "code",
      "source": [
        "t = ' '.join(df['tweet_text'].values)\n",
        "\n",
        "# Remove URLs\n",
        "t = re.sub(r'#\\S+', '', t)\n",
        "t = re.sub(r'http\\S+', '', t)\n",
        "t = re.sub(r'@\\S+', '', t)\n",
        "\n",
        "words = t.split()"
      ],
      "metadata": {
        "execution": {
          "iopub.status.busy": "2023-03-04T08:30:57.710574Z",
          "iopub.execute_input": "2023-03-04T08:30:57.710965Z",
          "iopub.status.idle": "2023-03-04T08:30:57.812828Z",
          "shell.execute_reply.started": "2023-03-04T08:30:57.710930Z",
          "shell.execute_reply": "2023-03-04T08:30:57.811685Z"
        },
        "trusted": true,
        "id": "s92GLyeCGtgE"
      },
      "execution_count": 14,
      "outputs": []
    },
    {
      "cell_type": "code",
      "source": [
        "# Remove stop words\n",
        "stop_words = set(stopwords.words('english'))\n",
        "words = [word for word in words if not word in stop_words]"
      ],
      "metadata": {
        "execution": {
          "iopub.status.busy": "2023-03-04T08:30:57.815018Z",
          "iopub.execute_input": "2023-03-04T08:30:57.815827Z",
          "iopub.status.idle": "2023-03-04T08:30:57.879273Z",
          "shell.execute_reply.started": "2023-03-04T08:30:57.815792Z",
          "shell.execute_reply": "2023-03-04T08:30:57.878314Z"
        },
        "trusted": true,
        "id": "RX4TBm4PGtgF"
      },
      "execution_count": 15,
      "outputs": []
    },
    {
      "cell_type": "code",
      "source": [
        "# frequency of each word\n",
        "word_counts = Counter(words)\n",
        "top_words = word_counts.most_common(100)\n",
        "top_words"
      ],
      "metadata": {
        "execution": {
          "iopub.status.busy": "2023-03-04T08:30:57.880717Z",
          "iopub.execute_input": "2023-03-04T08:30:57.881162Z",
          "iopub.status.idle": "2023-03-04T08:30:57.944345Z",
          "shell.execute_reply.started": "2023-03-04T08:30:57.881091Z",
          "shell.execute_reply": "2023-03-04T08:30:57.943354Z"
        },
        "trusted": true,
        "colab": {
          "base_uri": "https://localhost:8080/"
        },
        "id": "WAKOE8_XGtgF",
        "outputId": "ca0e6f12-9388-467d-e4fa-1bb854e8e94b"
      },
      "execution_count": 16,
      "outputs": [
        {
          "output_type": "execute_result",
          "data": {
            "text/plain": [
              "[('I', 6727),\n",
              " ('school', 2828),\n",
              " ('like', 2222),\n",
              " ('high', 2000),\n",
              " ('bullied', 1836),\n",
              " ('dumb', 1787),\n",
              " ('RT', 1762),\n",
              " ('people', 1544),\n",
              " ('u', 1440),\n",
              " ('rape', 1329),\n",
              " ('fuck', 1227),\n",
              " ('one', 1173),\n",
              " ('gay', 1149),\n",
              " ('&amp;', 1119),\n",
              " ('bully', 1103),\n",
              " ('The', 1083),\n",
              " ('ass', 1048),\n",
              " ('get', 1033),\n",
              " ('girls', 1025),\n",
              " (\"I'm\", 1005),\n",
              " ('You', 985),\n",
              " ('nigger', 956),\n",
              " ('girl', 953),\n",
              " ('jokes', 911),\n",
              " ('know', 837),\n",
              " ('think', 833),\n",
              " ('would', 825),\n",
              " ('black', 764),\n",
              " ('got', 660),\n",
              " ('make', 653),\n",
              " ('FUCK', 639),\n",
              " ('white', 626),\n",
              " ('say', 620),\n",
              " ('Muslims', 610),\n",
              " ('even', 605),\n",
              " ('call', 600),\n",
              " ('Muslim', 596),\n",
              " ('And', 595),\n",
              " ('-', 579),\n",
              " ('never', 573),\n",
              " ('called', 565),\n",
              " ('go', 549),\n",
              " ('ur', 549),\n",
              " ('see', 544),\n",
              " ('still', 536),\n",
              " ('This', 533),\n",
              " ('want', 531),\n",
              " ('A', 526),\n",
              " ('really', 521),\n",
              " ('fucking', 508),\n",
              " ('Christian', 504),\n",
              " ('women', 501),\n",
              " ('joke', 488),\n",
              " ('If', 486),\n",
              " ('bitch', 480),\n",
              " ('support', 474),\n",
              " ('said', 466),\n",
              " ('bullies', 464),\n",
              " ('right', 462),\n",
              " ('hate', 457),\n",
              " ('time', 452),\n",
              " ('shit', 449),\n",
              " ('idiots', 449),\n",
              " ('idiot', 439),\n",
              " ('first', 438),\n",
              " ('woman', 438),\n",
              " ('.', 437),\n",
              " ('But', 425),\n",
              " ('OBAMA,', 420),\n",
              " ('need', 414),\n",
              " ('going', 401),\n",
              " ('So', 399),\n",
              " ('They', 398),\n",
              " ('“', 395),\n",
              " ('don’t', 391),\n",
              " ('made', 388),\n",
              " ('love', 383),\n",
              " ('It', 379),\n",
              " ('back', 369),\n",
              " ('anything', 365),\n",
              " ('good', 364),\n",
              " ('it.', 361),\n",
              " ('way', 358),\n",
              " ('Islamic', 354),\n",
              " ('also', 349),\n",
              " ('He', 348),\n",
              " ('much', 347),\n",
              " (\"can't\", 345),\n",
              " (\"It's\", 340),\n",
              " ('every', 336),\n",
              " ('What', 336),\n",
              " ('always', 334),\n",
              " ('middle', 331),\n",
              " ('mean', 328),\n",
              " ('man', 326),\n",
              " ('We', 326),\n",
              " ('niggers', 325),\n",
              " ('many', 322),\n",
              " ('someone', 321),\n",
              " ('bullying', 320)]"
            ]
          },
          "metadata": {},
          "execution_count": 16
        }
      ]
    },
    {
      "cell_type": "code",
      "source": [
        "top_words = word_counts.most_common(10)\n",
        "x_values = [word[0] for word in top_words]\n",
        "y_values = [word[1] for word in top_words]\n",
        "plt.bar(x_values, y_values)\n",
        "plt.xlabel('Word')\n",
        "plt.ylabel('Frequency')\n",
        "plt.title('Most Commonly Used Words')\n",
        "plt.show()"
      ],
      "metadata": {
        "execution": {
          "iopub.status.busy": "2023-03-04T08:30:57.947282Z",
          "iopub.execute_input": "2023-03-04T08:30:57.947764Z",
          "iopub.status.idle": "2023-03-04T08:30:58.196337Z",
          "shell.execute_reply.started": "2023-03-04T08:30:57.947714Z",
          "shell.execute_reply": "2023-03-04T08:30:58.195179Z"
        },
        "trusted": true,
        "colab": {
          "base_uri": "https://localhost:8080/",
          "height": 472
        },
        "id": "xcBEtXh5GtgF",
        "outputId": "014d514b-0e32-4a1d-a1b1-0de784ec28e8"
      },
      "execution_count": 17,
      "outputs": [
        {
          "output_type": "display_data",
          "data": {
            "text/plain": [
              "<Figure size 640x480 with 1 Axes>"
            ],
            "image/png": "[encoded data removed]"
          },
          "metadata": {}
        }
      ]
    },
    {
      "cell_type": "markdown",
      "source": [
        "# Visualizations\n",
        "---"
      ],
      "metadata": {
        "id": "Wku71VsfGtgF"
      }
    },
    {
      "cell_type": "markdown",
      "source": [
        "Sentiment Analysis Plot"
      ],
      "metadata": {
        "id": "fM5vEGzeGtgF"
      }
    },
    {
      "cell_type": "code",
      "source": [
        "import pandas as pd\n",
        "import matplotlib.pyplot as plt\n",
        "from textblob import TextBlob\n",
        "\n",
        "sentiment_scores = []\n",
        "for text in df['tweet_text']:\n",
        "    analysis = TextBlob(text)\n",
        "    sentiment_scores.append((analysis.sentiment.polarity, analysis.sentiment.subjectivity))\n",
        "\n",
        "# DataFrame with sentiment scores\n",
        "sentiment_df = pd.DataFrame(sentiment_scores, columns=['polarity', 'subjectivity'])\n",
        "\n",
        "fig, axes = plt.subplots(nrows=1, ncols=2, figsize=(10, 5))\n",
        "sentiment_df['polarity'].plot(kind='hist', ax=axes[0], title='Polarity')\n",
        "sentiment_df['subjectivity'].plot(kind='hist', ax=axes[1], title='Subjectivity')\n",
        "plt.show()"
      ],
      "metadata": {
        "execution": {
          "iopub.status.busy": "2023-03-04T08:31:09.800767Z",
          "iopub.execute_input": "2023-03-04T08:31:09.801329Z",
          "iopub.status.idle": "2023-03-04T08:31:16.302610Z",
          "shell.execute_reply.started": "2023-03-04T08:31:09.801291Z",
          "shell.execute_reply": "2023-03-04T08:31:16.301192Z"
        },
        "trusted": true,
        "colab": {
          "base_uri": "https://localhost:8080/",
          "height": 468
        },
        "id": "rlH9CtM0GtgF",
        "outputId": "c3479312-6509-43d4-b8d8-2fc428f21a77"
      },
      "execution_count": 18,
      "outputs": [
        {
          "output_type": "display_data",
          "data": {
            "text/plain": [
              "<Figure size 1000x500 with 2 Axes>"
            ],
            "image/png": "[encoded data removed]"
          },
          "metadata": {}
        }
      ]
    },
    {
      "cell_type": "markdown",
      "source": [
        "# NLP"
      ],
      "metadata": {
        "id": "8Xnf8GHgGtgG"
      }
    },
    {
      "cell_type": "code",
      "source": [
        "# Clean the data\n",
        "def clean_text(text):\n",
        "\n",
        "    text = re.sub('<.*?>', '', text)\n",
        "    text = re.sub('[^a-zA-Z]', ' ', text).lower()\n",
        "    text = re.sub(r'@\\S+', '', text)\n",
        "    text = re.sub(r'#\\S+', '', text)\n",
        "    text = re.sub(r'http\\S+', '', text)\n",
        "\n",
        "    # Tokenize the text\n",
        "    words = nltk.word_tokenize(text)\n",
        "\n",
        "    # Remove stopwords\n",
        "    words = [w for w in words if w not in stopwords.words('english')]\n",
        "\n",
        "    # Stem the words\n",
        "    stemmer = PorterStemmer()\n",
        "    words = [stemmer.stem(w) for w in words]\n",
        "\n",
        "    text = ' '.join(words)\n",
        "    return text"
      ],
      "metadata": {
        "execution": {
          "iopub.status.busy": "2023-03-04T08:31:44.612936Z",
          "iopub.execute_input": "2023-03-04T08:31:44.613414Z",
          "iopub.status.idle": "2023-03-04T08:31:44.622979Z",
          "shell.execute_reply.started": "2023-03-04T08:31:44.613361Z",
          "shell.execute_reply": "2023-03-04T08:31:44.621960Z"
        },
        "trusted": true,
        "id": "E0x6LNMOGtgH"
      },
      "execution_count": 19,
      "outputs": []
    },
    {
      "cell_type": "code",
      "source": [
        "nltk.download('punkt')"
      ],
      "metadata": {
        "colab": {
          "base_uri": "https://localhost:8080/"
        },
        "id": "KQwgFcLdJatw",
        "outputId": "82e5769e-3211-4233-ee67-47790dd79461"
      },
      "execution_count": 20,
      "outputs": [
        {
          "output_type": "stream",
          "name": "stderr",
          "text": [
            "[nltk_data] Downloading package punkt to /root/nltk_data...\n",
            "[nltk_data]   Unzipping tokenizers/punkt.zip.\n"
          ]
        },
        {
          "output_type": "execute_result",
          "data": {
            "text/plain": [
              "True"
            ]
          },
          "metadata": {},
          "execution_count": 20
        }
      ]
    },
    {
      "cell_type": "code",
      "source": [
        "%%time\n",
        "\n",
        "tqdm.pandas()\n",
        "\n",
        "df['cleaned_text'] = df['tweet_text'].progress_apply(clean_text)"
      ],
      "metadata": {
        "execution": {
          "iopub.status.busy": "2023-03-04T08:31:44.624419Z",
          "iopub.execute_input": "2023-03-04T08:31:44.625041Z",
          "iopub.status.idle": "2023-03-04T08:33:03.752337Z",
          "shell.execute_reply.started": "2023-03-04T08:31:44.625002Z",
          "shell.execute_reply": "2023-03-04T08:33:03.751170Z"
        },
        "trusted": true,
        "colab": {
          "base_uri": "https://localhost:8080/",
          "height": 85,
          "referenced_widgets": [
            "0930d3654611418faa032cf579094e92",
            "03195221f109489a8751b5b8a5568622",
            "6899b31291904c3b980b2ec7e9042dc6",
            "47ba4d93803b42d8889d6f84e2084c03",
            "4b12c55502c94d06ae25d00ff6ae9bdb",
            "352e0b903fe2497ea69d43e39bfb1975",
            "b9534fa42be24a72b4c229ba72b1a551",
            "41cbf4ccc1d849a6a2a9856bdc6f486f",
            "113cf75622fe40ecbfdf72e3cd869d3d",
            "eb705980b247473c8457baa5f8356faf",
            "60fdca602d2143769c906b3301fdb592"
          ]
        },
        "id": "Qt2tRMPOGtgH",
        "outputId": "32925d76-66f1-4f33-971b-a51930d9bdbf"
      },
      "execution_count": 21,
      "outputs": [
        {
          "output_type": "display_data",
          "data": {
            "text/plain": [
              "  0%|          | 0/20000 [00:00<?, ?it/s]"
            ],
            "application/vnd.jupyter.widget-view+json": {
              "version_major": 2,
              "version_minor": 0,
              "model_id": "0930d3654611418faa032cf579094e92"
            }
          },
          "metadata": {}
        },
        {
          "output_type": "stream",
          "name": "stdout",
          "text": [
            "CPU times: user 41.2 s, sys: 5.62 s, total: 46.9 s\n",
            "Wall time: 51.9 s\n"
          ]
        }
      ]
    },
    {
      "cell_type": "markdown",
      "source": [
        "# Feature Extraction"
      ],
      "metadata": {
        "id": "LVww2JIwGtgH"
      }
    },
    {
      "cell_type": "code",
      "source": [
        "# Create the Bag of Words model\n",
        "cv = CountVectorizer()\n",
        "X = cv.fit_transform(df['cleaned_text']).toarray()\n",
        "y = df['cyberbullying_type']"
      ],
      "metadata": {
        "execution": {
          "iopub.status.busy": "2023-03-04T08:33:03.753793Z",
          "iopub.execute_input": "2023-03-04T08:33:03.754168Z",
          "iopub.status.idle": "2023-03-04T08:33:04.750773Z",
          "shell.execute_reply.started": "2023-03-04T08:33:03.754112Z",
          "shell.execute_reply": "2023-03-04T08:33:04.749577Z"
        },
        "trusted": true,
        "id": "DxkOZI_hGtgH"
      },
      "execution_count": 22,
      "outputs": []
    },
    {
      "cell_type": "code",
      "source": [
        "# Split the training and testing sets\n",
        "from sklearn.model_selection import train_test_split\n",
        "X_train, X_test, y_train, y_test = train_test_split(X, y, test_size=0.2, random_state=42)"
      ],
      "metadata": {
        "execution": {
          "iopub.status.busy": "2023-03-04T08:33:04.752734Z",
          "iopub.execute_input": "2023-03-04T08:33:04.753201Z",
          "iopub.status.idle": "2023-03-04T08:33:08.015048Z",
          "shell.execute_reply.started": "2023-03-04T08:33:04.753111Z",
          "shell.execute_reply": "2023-03-04T08:33:08.013830Z"
        },
        "trusted": true,
        "id": "d3gKGrWcGtgH"
      },
      "execution_count": 23,
      "outputs": []
    },
    {
      "cell_type": "markdown",
      "source": [
        "# Classification Model"
      ],
      "metadata": {
        "id": "NaTVgn-xGtgH"
      }
    },
    {
      "cell_type": "markdown",
      "source": [
        "Logistic Regression Model"
      ],
      "metadata": {
        "id": "HojsjaFiGtgH"
      }
    },
    {
      "cell_type": "code",
      "source": [
        "from sklearn.linear_model import LogisticRegression\n",
        "from sklearn.metrics import accuracy_score\n",
        "\n",
        "# train a Logistic Regression Model\n",
        "clf = LogisticRegression(max_iter = 1000)"
      ],
      "metadata": {
        "execution": {
          "iopub.status.busy": "2023-03-04T08:33:08.016798Z",
          "iopub.execute_input": "2023-03-04T08:33:08.017173Z",
          "iopub.status.idle": "2023-03-04T08:33:08.022310Z",
          "shell.execute_reply.started": "2023-03-04T08:33:08.017113Z",
          "shell.execute_reply": "2023-03-04T08:33:08.021202Z"
        },
        "trusted": true,
        "id": "9Wel6QiRGtgH"
      },
      "execution_count": 24,
      "outputs": []
    },
    {
      "cell_type": "code",
      "source": [
        "clf.fit(X_train, y_train)"
      ],
      "metadata": {
        "execution": {
          "iopub.status.busy": "2023-03-04T08:33:08.023600Z",
          "iopub.execute_input": "2023-03-04T08:33:08.023913Z",
          "iopub.status.idle": "2023-03-04T08:35:31.050908Z",
          "shell.execute_reply.started": "2023-03-04T08:33:08.023881Z",
          "shell.execute_reply": "2023-03-04T08:35:31.049635Z"
        },
        "trusted": true,
        "id": "8KsrwIsiGtgH",
        "colab": {
          "base_uri": "https://localhost:8080/",
          "height": 75
        },
        "outputId": "e6cc6f52-f7b4-4fd1-bd7c-ad856b1bdaf6"
      },
      "execution_count": 25,
      "outputs": [
        {
          "output_type": "execute_result",
          "data": {
            "text/plain": [
              "LogisticRegression(max_iter=1000)"
            ],
            "text/html": [
              "<style>#sk-container-id-1 {color: black;background-color: white;}#sk-container-id-1 pre{padding: 0;}#sk-container-id-1 div.sk-toggleable {background-color: white;}#sk-container-id-1 label.sk-toggleable__label {cursor: pointer;display: block;width: 100%;margin-bottom: 0;padding: 0.3em;box-sizing: border-box;text-align: center;}#sk-container-id-1 label.sk-toggleable__label-arrow:before {content: \"▸\";float: left;margin-right: 0.25em;color: #696969;}#sk-container-id-1 label.sk-toggleable__label-arrow:hover:before {color: black;}#sk-container-id-1 div.sk-estimator:hover label.sk-toggleable__label-arrow:before {color: black;}#sk-container-id-1 div.sk-toggleable__content {max-height: 0;max-width: 0;overflow: hidden;text-align: left;background-color: #f0f8ff;}#sk-container-id-1 div.sk-toggleable__content pre {margin: 0.2em;color: black;border-radius: 0.25em;background-color: #f0f8ff;}#sk-container-id-1 input.sk-toggleable__control:checked~div.sk-toggleable__content {max-height: 200px;max-width: 100%;overflow: auto;}#sk-container-id-1 input.sk-toggleable__control:checked~label.sk-toggleable__label-arrow:before {content: \"▾\";}#sk-container-id-1 div.sk-estimator input.sk-toggleable__control:checked~label.sk-toggleable__label {background-color: #d4ebff;}#sk-container-id-1 div.sk-label input.sk-toggleable__control:checked~label.sk-toggleable__label {background-color: #d4ebff;}#sk-container-id-1 input.sk-hidden--visually {border: 0;clip: rect(1px 1px 1px 1px);clip: rect(1px, 1px, 1px, 1px);height: 1px;margin: -1px;overflow: hidden;padding: 0;position: absolute;width: 1px;}#sk-container-id-1 div.sk-estimator {font-family: monospace;background-color: #f0f8ff;border: 1px dotted black;border-radius: 0.25em;box-sizing: border-box;margin-bottom: 0.5em;}#sk-container-id-1 div.sk-estimator:hover {background-color: #d4ebff;}#sk-container-id-1 div.sk-parallel-item::after {content: \"\";width: 100%;border-bottom: 1px solid gray;flex-grow: 1;}#sk-container-id-1 div.sk-label:hover label.sk-toggleable__label {background-color: #d4ebff;}#sk-container-id-1 div.sk-serial::before {content: \"\";position: absolute;border-left: 1px solid gray;box-sizing: border-box;top: 0;bottom: 0;left: 50%;z-index: 0;}#sk-container-id-1 div.sk-serial {display: flex;flex-direction: column;align-items: center;background-color: white;padding-right: 0.2em;padding-left: 0.2em;position: relative;}#sk-container-id-1 div.sk-item {position: relative;z-index: 1;}#sk-container-id-1 div.sk-parallel {display: flex;align-items: stretch;justify-content: center;background-color: white;position: relative;}#sk-container-id-1 div.sk-item::before, #sk-container-id-1 div.sk-parallel-item::before {content: \"\";position: absolute;border-left: 1px solid gray;box-sizing: border-box;top: 0;bottom: 0;left: 50%;z-index: -1;}#sk-container-id-1 div.sk-parallel-item {display: flex;flex-direction: column;z-index: 1;position: relative;background-color: white;}#sk-container-id-1 div.sk-parallel-item:first-child::after {align-self: flex-end;width: 50%;}#sk-container-id-1 div.sk-parallel-item:last-child::after {align-self: flex-start;width: 50%;}#sk-container-id-1 div.sk-parallel-item:only-child::after {width: 0;}#sk-container-id-1 div.sk-dashed-wrapped {border: 1px dashed gray;margin: 0 0.4em 0.5em 0.4em;box-sizing: border-box;padding-bottom: 0.4em;background-color: white;}#sk-container-id-1 div.sk-label label {font-family: monospace;font-weight: bold;display: inline-block;line-height: 1.2em;}#sk-container-id-1 div.sk-label-container {text-align: center;}#sk-container-id-1 div.sk-container {/* jupyter's `normalize.less` sets `[hidden] { display: none; }` but bootstrap.min.css set `[hidden] { display: none !important; }` so we also need the `!important` here to be able to override the default hidden behavior on the sphinx rendered scikit-learn.org. See: https://github.com/scikit-learn/scikit-learn/issues/21755 */display: inline-block !important;position: relative;}#sk-container-id-1 div.sk-text-repr-fallback {display: none;}</style><div id=\"sk-container-id-1\" class=\"sk-top-container\"><div class=\"sk-text-repr-fallback\"><pre>LogisticRegression(max_iter=1000)</pre><b>In a Jupyter environment, please rerun this cell to show the HTML representation or trust the notebook. <br />On GitHub, the HTML representation is unable to render, please try loading this page with nbviewer.org.</b></div><div class=\"sk-container\" hidden><div class=\"sk-item\"><div class=\"sk-estimator sk-toggleable\"><input class=\"sk-toggleable__control sk-hidden--visually\" id=\"sk-estimator-id-1\" type=\"checkbox\" checked><label for=\"sk-estimator-id-1\" class=\"sk-toggleable__label sk-toggleable__label-arrow\">LogisticRegression</label><div class=\"sk-toggleable__content\"><pre>LogisticRegression(max_iter=1000)</pre></div></div></div></div></div>"
            ]
          },
          "metadata": {},
          "execution_count": 25
        }
      ]
    },
    {
      "cell_type": "code",
      "source": [
        "# Predictions\n",
        "\n",
        "y_pred = clf.predict(X_test)\n",
        "y_pred"
      ],
      "metadata": {
        "execution": {
          "iopub.status.busy": "2023-03-04T08:35:31.056568Z",
          "iopub.execute_input": "2023-03-04T08:35:31.057391Z",
          "iopub.status.idle": "2023-03-04T08:35:31.492997Z",
          "shell.execute_reply.started": "2023-03-04T08:35:31.057326Z",
          "shell.execute_reply": "2023-03-04T08:35:31.491672Z"
        },
        "trusted": true,
        "id": "F506b5AtGtgI",
        "colab": {
          "base_uri": "https://localhost:8080/"
        },
        "outputId": "7546dae4-a897-45c9-ebcc-b9bf07b4a630"
      },
      "execution_count": 26,
      "outputs": [
        {
          "output_type": "execute_result",
          "data": {
            "text/plain": [
              "array(['other_cyberbullying', 'other_cyberbullying', 'religion', ...,\n",
              "       'religion', 'gender', 'age'], dtype=object)"
            ]
          },
          "metadata": {},
          "execution_count": 26
        }
      ]
    },
    {
      "cell_type": "code",
      "source": [
        "# Accuracy Score\n",
        "\n",
        "acc = accuracy_score(y_test, y_pred)\n",
        "print(\"Accuracy:\", acc)"
      ],
      "metadata": {
        "execution": {
          "iopub.status.busy": "2023-03-04T08:35:31.494881Z",
          "iopub.execute_input": "2023-03-04T08:35:31.495625Z",
          "iopub.status.idle": "2023-03-04T08:35:31.511848Z",
          "shell.execute_reply.started": "2023-03-04T08:35:31.495576Z",
          "shell.execute_reply": "2023-03-04T08:35:31.510468Z"
        },
        "trusted": true,
        "id": "b3M0MYzHGtgI",
        "colab": {
          "base_uri": "https://localhost:8080/"
        },
        "outputId": "5bb0f9d4-c2b9-4578-e5ef-84f895acedce"
      },
      "execution_count": 27,
      "outputs": [
        {
          "output_type": "stream",
          "name": "stdout",
          "text": [
            "Accuracy: 0.82325\n"
          ]
        }
      ]
    },
    {
      "cell_type": "code",
      "source": [
        "# Confusion Matrix\n",
        "\n",
        "from sklearn.metrics import confusion_matrix\n",
        "cm = confusion_matrix(y_test, y_pred)\n",
        "cm"
      ],
      "metadata": {
        "execution": {
          "iopub.status.busy": "2023-03-04T08:35:31.513888Z",
          "iopub.execute_input": "2023-03-04T08:35:31.514702Z",
          "iopub.status.idle": "2023-03-04T08:35:31.561654Z",
          "shell.execute_reply.started": "2023-03-04T08:35:31.514654Z",
          "shell.execute_reply": "2023-03-04T08:35:31.560281Z"
        },
        "trusted": true,
        "id": "UaH1Uf3dGtgI",
        "colab": {
          "base_uri": "https://localhost:8080/"
        },
        "outputId": "26ca3ccd-f836-495c-c3a1-eb6c2348b3b0"
      },
      "execution_count": 28,
      "outputs": [
        {
          "output_type": "execute_result",
          "data": {
            "text/plain": [
              "array([[648,   0,   0,  14,   9,   0],\n",
              "       [  2, 612,   1,   5,   7,   1],\n",
              "       [  2,   2, 588,  53,  67,   1],\n",
              "       [ 13,   2,  27, 335, 221,  21],\n",
              "       [  5,   2,  32, 184, 446,   3],\n",
              "       [  0,   0,   3,  23,   7, 664]])"
            ]
          },
          "metadata": {},
          "execution_count": 28
        }
      ]
    },
    {
      "cell_type": "code",
      "source": [
        "import seaborn as sns\n",
        "sns.heatmap(cm, annot=True)"
      ],
      "metadata": {
        "execution": {
          "iopub.status.busy": "2023-03-04T08:35:31.564412Z",
          "iopub.execute_input": "2023-03-04T08:35:31.565024Z",
          "iopub.status.idle": "2023-03-04T08:35:31.872084Z",
          "shell.execute_reply.started": "2023-03-04T08:35:31.564964Z",
          "shell.execute_reply": "2023-03-04T08:35:31.871255Z"
        },
        "trusted": true,
        "id": "3z-lrHEEGtgI",
        "colab": {
          "base_uri": "https://localhost:8080/",
          "height": 448
        },
        "outputId": "9edec237-1250-4867-e01e-fb460769eac4"
      },
      "execution_count": 29,
      "outputs": [
        {
          "output_type": "execute_result",
          "data": {
            "text/plain": [
              "<Axes: >"
            ]
          },
          "metadata": {},
          "execution_count": 29
        },
        {
          "output_type": "display_data",
          "data": {
            "text/plain": [
              "<Figure size 640x480 with 2 Axes>"
            ],
            "image/png": "[encoded data removed]"
          },
          "metadata": {}
        }
      ]
    },
    {
      "cell_type": "markdown",
      "source": [
        "# Classification Report"
      ],
      "metadata": {
        "id": "iZlM33H6GtgI"
      }
    },
    {
      "cell_type": "code",
      "source": [
        "from sklearn.metrics import classification_report\n",
        "report = classification_report(y_test, y_pred)\n",
        "print(report)"
      ],
      "metadata": {
        "execution": {
          "iopub.status.busy": "2023-03-04T08:35:56.225811Z",
          "iopub.execute_input": "2023-03-04T08:35:56.226274Z",
          "iopub.status.idle": "2023-03-04T08:35:56.321001Z",
          "shell.execute_reply.started": "2023-03-04T08:35:56.226232Z",
          "shell.execute_reply": "2023-03-04T08:35:56.319853Z"
        },
        "trusted": true,
        "id": "PEwtBL4kGtgI",
        "colab": {
          "base_uri": "https://localhost:8080/"
        },
        "outputId": "f1721662-8ff5-470a-a5e1-ea5f833779db"
      },
      "execution_count": 30,
      "outputs": [
        {
          "output_type": "stream",
          "name": "stdout",
          "text": [
            "                     precision    recall  f1-score   support\n",
            "\n",
            "                age       0.97      0.97      0.97       671\n",
            "          ethnicity       0.99      0.97      0.98       628\n",
            "             gender       0.90      0.82      0.86       713\n",
            "  not_cyberbullying       0.55      0.54      0.54       619\n",
            "other_cyberbullying       0.59      0.66      0.62       672\n",
            "           religion       0.96      0.95      0.96       697\n",
            "\n",
            "           accuracy                           0.82      4000\n",
            "          macro avg       0.83      0.82      0.82      4000\n",
            "       weighted avg       0.83      0.82      0.83      4000\n",
            "\n"
          ]
        }
      ]
    },
    {
      "cell_type": "markdown",
      "source": [
        "# Function to predict cyberbullying"
      ],
      "metadata": {
        "id": "mygeYjJTd59M"
      }
    },
    {
      "cell_type": "code",
      "source": [
        "def predict_cyberbullying(text, model, vectorizer):\n",
        "    cleaned_text = clean_text(text)\n",
        "    vectorized_text = vectorizer.transform([cleaned_text]).toarray()\n",
        "    prediction = model.predict(vectorized_text)\n",
        "    return prediction[0]\n"
      ],
      "metadata": {
        "id": "BQV05rtMcmDo"
      },
      "execution_count": 31,
      "outputs": []
    },
    {
      "cell_type": "code",
      "source": [
        "# Example\n",
        "\n",
        "# Enter Any text to test the model\n",
        "tweet_to_predict = \"I hate helping others and spreading positivity\"\n",
        "prediction_result = predict_cyberbullying(tweet_to_predict, clf, cv)\n",
        "print(tweet_to_predict)\n",
        "print(prediction_result + \"\\n\")\n",
        "\n",
        "if prediction_result == 'not_cyberbullying':\n",
        "    print(\"The text is not classified as cyberbullying\")\n",
        "else:\n",
        "    print(\"The text is classified as cyberbullying\")"
      ],
      "metadata": {
        "colab": {
          "base_uri": "https://localhost:8080/"
        },
        "id": "m9QVC0QpdqAf",
        "outputId": "0b19a017-bbc2-4df3-ccdf-fc5cf93d0171"
      },
      "execution_count": 32,
      "outputs": [
        {
          "output_type": "stream",
          "name": "stdout",
          "text": [
            "I hate helping others and spreading positivity\n",
            "other_cyberbullying\n",
            "\n",
            "The text is classified as cyberbullying\n"
          ]
        }
      ]
    },
    {
      "cell_type": "code",
      "source": [
        "# Example\n",
        "\n",
        "tweet_to_predict = \"I love helping others and spreading positivity\"\n",
        "prediction_result = predict_cyberbullying(tweet_to_predict, clf, cv)\n",
        "print(tweet_to_predict)\n",
        "print(prediction_result + \"\\n\")\n",
        "\n",
        "if prediction_result == 'not_cyberbullying':\n",
        "    print(\"The text is not classified as cyberbullying\")\n",
        "else:\n",
        "    print(\"The text is classified as cyberbullying\")"
      ],
      "metadata": {
        "colab": {
          "base_uri": "https://localhost:8080/"
        },
        "id": "48ZqW9CFdsrc",
        "outputId": "3b2d912d-2c0e-4a79-f22c-28b56a8f4d1b"
      },
      "execution_count": 33,
      "outputs": [
        {
          "output_type": "stream",
          "name": "stdout",
          "text": [
            "I love helping others and spreading positivity\n",
            "not_cyberbullying\n",
            "\n",
            "The text is not classified as cyberbullying\n"
          ]
        }
      ]
    }
  ]
}